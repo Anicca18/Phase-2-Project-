{
 "cells": [
  {
   "cell_type": "markdown",
   "id": "2b691416",
   "metadata": {},
   "source": [
    "# Cleaning Movie Budget Data Set"
   ]
  },
  {
   "cell_type": "code",
   "execution_count": 3,
   "id": "eb3c1b42",
   "metadata": {},
   "outputs": [
    {
     "data": {
      "text/html": [
       "<div>\n",
       "<style scoped>\n",
       "    .dataframe tbody tr th:only-of-type {\n",
       "        vertical-align: middle;\n",
       "    }\n",
       "\n",
       "    .dataframe tbody tr th {\n",
       "        vertical-align: top;\n",
       "    }\n",
       "\n",
       "    .dataframe thead th {\n",
       "        text-align: right;\n",
       "    }\n",
       "</style>\n",
       "<table border=\"1\" class=\"dataframe\">\n",
       "  <thead>\n",
       "    <tr style=\"text-align: right;\">\n",
       "      <th></th>\n",
       "      <th>id</th>\n",
       "      <th>release_date</th>\n",
       "      <th>movie</th>\n",
       "      <th>production_budget</th>\n",
       "      <th>domestic_gross</th>\n",
       "      <th>worldwide_gross</th>\n",
       "    </tr>\n",
       "  </thead>\n",
       "  <tbody>\n",
       "    <tr>\n",
       "      <th>0</th>\n",
       "      <td>1</td>\n",
       "      <td>Dec 18, 2009</td>\n",
       "      <td>Avatar</td>\n",
       "      <td>$425,000,000</td>\n",
       "      <td>$760,507,625</td>\n",
       "      <td>$2,776,345,279</td>\n",
       "    </tr>\n",
       "    <tr>\n",
       "      <th>1</th>\n",
       "      <td>2</td>\n",
       "      <td>May 20, 2011</td>\n",
       "      <td>Pirates of the Caribbean: On Stranger Tides</td>\n",
       "      <td>$410,600,000</td>\n",
       "      <td>$241,063,875</td>\n",
       "      <td>$1,045,663,875</td>\n",
       "    </tr>\n",
       "    <tr>\n",
       "      <th>2</th>\n",
       "      <td>3</td>\n",
       "      <td>Jun 7, 2019</td>\n",
       "      <td>Dark Phoenix</td>\n",
       "      <td>$350,000,000</td>\n",
       "      <td>$42,762,350</td>\n",
       "      <td>$149,762,350</td>\n",
       "    </tr>\n",
       "    <tr>\n",
       "      <th>3</th>\n",
       "      <td>4</td>\n",
       "      <td>May 1, 2015</td>\n",
       "      <td>Avengers: Age of Ultron</td>\n",
       "      <td>$330,600,000</td>\n",
       "      <td>$459,005,868</td>\n",
       "      <td>$1,403,013,963</td>\n",
       "    </tr>\n",
       "    <tr>\n",
       "      <th>4</th>\n",
       "      <td>5</td>\n",
       "      <td>Dec 15, 2017</td>\n",
       "      <td>Star Wars Ep. VIII: The Last Jedi</td>\n",
       "      <td>$317,000,000</td>\n",
       "      <td>$620,181,382</td>\n",
       "      <td>$1,316,721,747</td>\n",
       "    </tr>\n",
       "  </tbody>\n",
       "</table>\n",
       "</div>"
      ],
      "text/plain": [
       "   id  release_date                                        movie  \\\n",
       "0   1  Dec 18, 2009                                       Avatar   \n",
       "1   2  May 20, 2011  Pirates of the Caribbean: On Stranger Tides   \n",
       "2   3   Jun 7, 2019                                 Dark Phoenix   \n",
       "3   4   May 1, 2015                      Avengers: Age of Ultron   \n",
       "4   5  Dec 15, 2017            Star Wars Ep. VIII: The Last Jedi   \n",
       "\n",
       "  production_budget domestic_gross worldwide_gross  \n",
       "0      $425,000,000   $760,507,625  $2,776,345,279  \n",
       "1      $410,600,000   $241,063,875  $1,045,663,875  \n",
       "2      $350,000,000    $42,762,350    $149,762,350  \n",
       "3      $330,600,000   $459,005,868  $1,403,013,963  \n",
       "4      $317,000,000   $620,181,382  $1,316,721,747  "
      ]
     },
     "execution_count": 3,
     "metadata": {},
     "output_type": "execute_result"
    }
   ],
   "source": [
    "import sqlite3\n",
    "import pandas as pd\n",
    "from scipy import stats\n",
    "import matplotlib.pyplot as plt\n",
    "import numpy as np\n",
    "import seaborn as sns\n",
    "import pickle\n",
    "\n",
    "csv_file_path = '/Users/jessiefreelander/Flatiron_labs/Git_lab_Phase Project/Phase-2-Project/Data/tn.movie_budgets.csv'\n",
    "\n",
    "data = pd.read_csv(csv_file_path, sep=',')\n",
    "\n",
    "data.head(5)"
   ]
  },
  {
   "cell_type": "markdown",
   "id": "2b71192c",
   "metadata": {},
   "source": [
    "## Renaming Columns"
   ]
  },
  {
   "cell_type": "code",
   "execution_count": 4,
   "id": "488d7b58",
   "metadata": {},
   "outputs": [
    {
     "data": {
      "text/html": [
       "<div>\n",
       "<style scoped>\n",
       "    .dataframe tbody tr th:only-of-type {\n",
       "        vertical-align: middle;\n",
       "    }\n",
       "\n",
       "    .dataframe tbody tr th {\n",
       "        vertical-align: top;\n",
       "    }\n",
       "\n",
       "    .dataframe thead th {\n",
       "        text-align: right;\n",
       "    }\n",
       "</style>\n",
       "<table border=\"1\" class=\"dataframe\">\n",
       "  <thead>\n",
       "    <tr style=\"text-align: right;\">\n",
       "      <th></th>\n",
       "      <th>id</th>\n",
       "      <th>Release Date</th>\n",
       "      <th>Movie</th>\n",
       "      <th>Production Budget</th>\n",
       "      <th>Domestic Gross</th>\n",
       "      <th>World Wide Gross</th>\n",
       "    </tr>\n",
       "  </thead>\n",
       "  <tbody>\n",
       "    <tr>\n",
       "      <th>0</th>\n",
       "      <td>1</td>\n",
       "      <td>Dec 18, 2009</td>\n",
       "      <td>Avatar</td>\n",
       "      <td>$425,000,000</td>\n",
       "      <td>$760,507,625</td>\n",
       "      <td>$2,776,345,279</td>\n",
       "    </tr>\n",
       "  </tbody>\n",
       "</table>\n",
       "</div>"
      ],
      "text/plain": [
       "   id  Release Date   Movie Production Budget Domestic Gross World Wide Gross\n",
       "0   1  Dec 18, 2009  Avatar      $425,000,000   $760,507,625   $2,776,345,279"
      ]
     },
     "execution_count": 4,
     "metadata": {},
     "output_type": "execute_result"
    }
   ],
   "source": [
    "data = data.rename(columns = { 'release_date':'Release Date', 'movie':'Movie', 'production_budget' : 'Production Budget', 'domestic_gross': 'Domestic Gross', 'worldwide_gross':'World Wide Gross'})\n",
    "data.head(1)"
   ]
  },
  {
   "cell_type": "markdown",
   "id": "88fb3bd8",
   "metadata": {},
   "source": [
    "## Cleaning NaN and 0 values"
   ]
  },
  {
   "cell_type": "code",
   "execution_count": 5,
   "id": "ba57e9cd",
   "metadata": {},
   "outputs": [
    {
     "name": "stdout",
     "output_type": "stream",
     "text": [
      "id                   False\n",
      "Release Date         False\n",
      "Movie                False\n",
      "Production Budget    False\n",
      "Domestic Gross       False\n",
      "World Wide Gross     False\n",
      "dtype: bool\n"
     ]
    }
   ],
   "source": [
    "print(data.isna().any())"
   ]
  },
  {
   "cell_type": "code",
   "execution_count": 6,
   "id": "d0cf1b9b",
   "metadata": {},
   "outputs": [
    {
     "data": {
      "text/plain": [
       "id                   False\n",
       "Release Date         False\n",
       "Movie                False\n",
       "Production Budget    False\n",
       "Domestic Gross       False\n",
       "World Wide Gross     False\n",
       "dtype: bool"
      ]
     },
     "execution_count": 6,
     "metadata": {},
     "output_type": "execute_result"
    }
   ],
   "source": [
    "(data==0).any()"
   ]
  },
  {
   "cell_type": "code",
   "execution_count": 7,
   "id": "c0a5f711",
   "metadata": {},
   "outputs": [
    {
     "data": {
      "text/html": [
       "<div>\n",
       "<style scoped>\n",
       "    .dataframe tbody tr th:only-of-type {\n",
       "        vertical-align: middle;\n",
       "    }\n",
       "\n",
       "    .dataframe tbody tr th {\n",
       "        vertical-align: top;\n",
       "    }\n",
       "\n",
       "    .dataframe thead th {\n",
       "        text-align: right;\n",
       "    }\n",
       "</style>\n",
       "<table border=\"1\" class=\"dataframe\">\n",
       "  <thead>\n",
       "    <tr style=\"text-align: right;\">\n",
       "      <th></th>\n",
       "      <th>id</th>\n",
       "      <th>Release Date</th>\n",
       "      <th>Movie</th>\n",
       "      <th>Production Budget</th>\n",
       "      <th>Domestic Gross</th>\n",
       "      <th>World Wide Gross</th>\n",
       "    </tr>\n",
       "  </thead>\n",
       "  <tbody>\n",
       "    <tr>\n",
       "      <th>0</th>\n",
       "      <td>1</td>\n",
       "      <td>Dec 18, 2009</td>\n",
       "      <td>Avatar</td>\n",
       "      <td>$425,000,000</td>\n",
       "      <td>$760,507,625</td>\n",
       "      <td>$2,776,345,279</td>\n",
       "    </tr>\n",
       "    <tr>\n",
       "      <th>1</th>\n",
       "      <td>2</td>\n",
       "      <td>May 20, 2011</td>\n",
       "      <td>Pirates of the Caribbean: On Stranger Tides</td>\n",
       "      <td>$410,600,000</td>\n",
       "      <td>$241,063,875</td>\n",
       "      <td>$1,045,663,875</td>\n",
       "    </tr>\n",
       "    <tr>\n",
       "      <th>2</th>\n",
       "      <td>3</td>\n",
       "      <td>Jun 7, 2019</td>\n",
       "      <td>Dark Phoenix</td>\n",
       "      <td>$350,000,000</td>\n",
       "      <td>$42,762,350</td>\n",
       "      <td>$149,762,350</td>\n",
       "    </tr>\n",
       "    <tr>\n",
       "      <th>3</th>\n",
       "      <td>4</td>\n",
       "      <td>May 1, 2015</td>\n",
       "      <td>Avengers: Age of Ultron</td>\n",
       "      <td>$330,600,000</td>\n",
       "      <td>$459,005,868</td>\n",
       "      <td>$1,403,013,963</td>\n",
       "    </tr>\n",
       "    <tr>\n",
       "      <th>4</th>\n",
       "      <td>5</td>\n",
       "      <td>Dec 15, 2017</td>\n",
       "      <td>Star Wars Ep. VIII: The Last Jedi</td>\n",
       "      <td>$317,000,000</td>\n",
       "      <td>$620,181,382</td>\n",
       "      <td>$1,316,721,747</td>\n",
       "    </tr>\n",
       "  </tbody>\n",
       "</table>\n",
       "</div>"
      ],
      "text/plain": [
       "   id  Release Date                                        Movie  \\\n",
       "0   1  Dec 18, 2009                                       Avatar   \n",
       "1   2  May 20, 2011  Pirates of the Caribbean: On Stranger Tides   \n",
       "2   3   Jun 7, 2019                                 Dark Phoenix   \n",
       "3   4   May 1, 2015                      Avengers: Age of Ultron   \n",
       "4   5  Dec 15, 2017            Star Wars Ep. VIII: The Last Jedi   \n",
       "\n",
       "  Production Budget Domestic Gross World Wide Gross  \n",
       "0      $425,000,000   $760,507,625   $2,776,345,279  \n",
       "1      $410,600,000   $241,063,875   $1,045,663,875  \n",
       "2      $350,000,000    $42,762,350     $149,762,350  \n",
       "3      $330,600,000   $459,005,868   $1,403,013,963  \n",
       "4      $317,000,000   $620,181,382   $1,316,721,747  "
      ]
     },
     "execution_count": 7,
     "metadata": {},
     "output_type": "execute_result"
    }
   ],
   "source": [
    "Wzero_drop = data[data['World Wide Gross'] == 0].index\n",
    "data = data.drop(index = Wzero_drop)\n",
    "data = data.reset_index(drop=True)\n",
    "Dzero_drop = data[data['Domestic Gross'] == 0].index\n",
    "data = data.drop(index = Dzero_drop)\n",
    "data = data.reset_index(drop=True)\n",
    "data.head()"
   ]
  },
  {
   "cell_type": "markdown",
   "id": "2384d524",
   "metadata": {},
   "source": [
    "## Normalizing Data"
   ]
  },
  {
   "cell_type": "code",
   "execution_count": 8,
   "id": "73d80e16",
   "metadata": {},
   "outputs": [
    {
     "data": {
      "text/html": [
       "<div>\n",
       "<style scoped>\n",
       "    .dataframe tbody tr th:only-of-type {\n",
       "        vertical-align: middle;\n",
       "    }\n",
       "\n",
       "    .dataframe tbody tr th {\n",
       "        vertical-align: top;\n",
       "    }\n",
       "\n",
       "    .dataframe thead th {\n",
       "        text-align: right;\n",
       "    }\n",
       "</style>\n",
       "<table border=\"1\" class=\"dataframe\">\n",
       "  <thead>\n",
       "    <tr style=\"text-align: right;\">\n",
       "      <th></th>\n",
       "      <th>id</th>\n",
       "      <th>Release Date</th>\n",
       "      <th>Movie</th>\n",
       "      <th>Production Budget</th>\n",
       "      <th>Domestic Gross</th>\n",
       "      <th>World Wide Gross</th>\n",
       "    </tr>\n",
       "  </thead>\n",
       "  <tbody>\n",
       "    <tr>\n",
       "      <th>0</th>\n",
       "      <td>1</td>\n",
       "      <td>Dec 18, 2009</td>\n",
       "      <td>Avatar</td>\n",
       "      <td>425000000</td>\n",
       "      <td>$760,507,625</td>\n",
       "      <td>$2,776,345,279</td>\n",
       "    </tr>\n",
       "  </tbody>\n",
       "</table>\n",
       "</div>"
      ],
      "text/plain": [
       "   id  Release Date   Movie  Production Budget Domestic Gross World Wide Gross\n",
       "0   1  Dec 18, 2009  Avatar          425000000   $760,507,625   $2,776,345,279"
      ]
     },
     "execution_count": 8,
     "metadata": {},
     "output_type": "execute_result"
    }
   ],
   "source": [
    "data['Production Budget'] = data['Production Budget'].str.replace('$','')\n",
    "data['Production Budget'] = data['Production Budget'].str.replace(',','')\n",
    "data['Production Budget'] = data['Production Budget'].astype(int)\n",
    "data.head(1)"
   ]
  },
  {
   "cell_type": "code",
   "execution_count": 9,
   "id": "4fe26ab8",
   "metadata": {},
   "outputs": [
    {
     "data": {
      "text/html": [
       "<div>\n",
       "<style scoped>\n",
       "    .dataframe tbody tr th:only-of-type {\n",
       "        vertical-align: middle;\n",
       "    }\n",
       "\n",
       "    .dataframe tbody tr th {\n",
       "        vertical-align: top;\n",
       "    }\n",
       "\n",
       "    .dataframe thead th {\n",
       "        text-align: right;\n",
       "    }\n",
       "</style>\n",
       "<table border=\"1\" class=\"dataframe\">\n",
       "  <thead>\n",
       "    <tr style=\"text-align: right;\">\n",
       "      <th></th>\n",
       "      <th>id</th>\n",
       "      <th>Release Date</th>\n",
       "      <th>Movie</th>\n",
       "      <th>Production Budget</th>\n",
       "      <th>Domestic Gross</th>\n",
       "      <th>World Wide Gross</th>\n",
       "    </tr>\n",
       "  </thead>\n",
       "  <tbody>\n",
       "    <tr>\n",
       "      <th>0</th>\n",
       "      <td>1</td>\n",
       "      <td>Dec 18, 2009</td>\n",
       "      <td>Avatar</td>\n",
       "      <td>425000000</td>\n",
       "      <td>760507625</td>\n",
       "      <td>$2,776,345,279</td>\n",
       "    </tr>\n",
       "  </tbody>\n",
       "</table>\n",
       "</div>"
      ],
      "text/plain": [
       "   id  Release Date   Movie  Production Budget  Domestic Gross  \\\n",
       "0   1  Dec 18, 2009  Avatar          425000000       760507625   \n",
       "\n",
       "  World Wide Gross  \n",
       "0   $2,776,345,279  "
      ]
     },
     "execution_count": 9,
     "metadata": {},
     "output_type": "execute_result"
    }
   ],
   "source": [
    "data['Domestic Gross'] = data['Domestic Gross'].str.replace('$','')\n",
    "data['Domestic Gross'] = data['Domestic Gross'].str.replace(',','')\n",
    "data['Domestic Gross'] = data['Domestic Gross'].astype(int)\n",
    "data.head(1)"
   ]
  },
  {
   "cell_type": "code",
   "execution_count": 10,
   "id": "56cc76bb",
   "metadata": {},
   "outputs": [
    {
     "data": {
      "text/html": [
       "<div>\n",
       "<style scoped>\n",
       "    .dataframe tbody tr th:only-of-type {\n",
       "        vertical-align: middle;\n",
       "    }\n",
       "\n",
       "    .dataframe tbody tr th {\n",
       "        vertical-align: top;\n",
       "    }\n",
       "\n",
       "    .dataframe thead th {\n",
       "        text-align: right;\n",
       "    }\n",
       "</style>\n",
       "<table border=\"1\" class=\"dataframe\">\n",
       "  <thead>\n",
       "    <tr style=\"text-align: right;\">\n",
       "      <th></th>\n",
       "      <th>id</th>\n",
       "      <th>Release Date</th>\n",
       "      <th>Movie</th>\n",
       "      <th>Production Budget</th>\n",
       "      <th>Domestic Gross</th>\n",
       "      <th>World Wide Gross</th>\n",
       "    </tr>\n",
       "  </thead>\n",
       "  <tbody>\n",
       "    <tr>\n",
       "      <th>0</th>\n",
       "      <td>1</td>\n",
       "      <td>Dec 18, 2009</td>\n",
       "      <td>Avatar</td>\n",
       "      <td>425000000</td>\n",
       "      <td>760507625</td>\n",
       "      <td>2776345279</td>\n",
       "    </tr>\n",
       "  </tbody>\n",
       "</table>\n",
       "</div>"
      ],
      "text/plain": [
       "   id  Release Date   Movie  Production Budget  Domestic Gross  \\\n",
       "0   1  Dec 18, 2009  Avatar          425000000       760507625   \n",
       "\n",
       "   World Wide Gross  \n",
       "0        2776345279  "
      ]
     },
     "execution_count": 10,
     "metadata": {},
     "output_type": "execute_result"
    }
   ],
   "source": [
    "data['World Wide Gross'] = data['World Wide Gross'].str.replace('$', '')\n",
    "data['World Wide Gross'] = data['World Wide Gross'].str.replace(',', '')\n",
    "data['World Wide Gross'] = data['World Wide Gross'].astype(int)\n",
    "data.head(1)"
   ]
  },
  {
   "cell_type": "markdown",
   "id": "dc7a6cc1",
   "metadata": {},
   "source": [
    "## Profitability Ratio's"
   ]
  },
  {
   "cell_type": "code",
   "execution_count": 11,
   "id": "96e41506",
   "metadata": {},
   "outputs": [
    {
     "data": {
      "text/html": [
       "<div>\n",
       "<style scoped>\n",
       "    .dataframe tbody tr th:only-of-type {\n",
       "        vertical-align: middle;\n",
       "    }\n",
       "\n",
       "    .dataframe tbody tr th {\n",
       "        vertical-align: top;\n",
       "    }\n",
       "\n",
       "    .dataframe thead th {\n",
       "        text-align: right;\n",
       "    }\n",
       "</style>\n",
       "<table border=\"1\" class=\"dataframe\">\n",
       "  <thead>\n",
       "    <tr style=\"text-align: right;\">\n",
       "      <th></th>\n",
       "      <th>id</th>\n",
       "      <th>Release Date</th>\n",
       "      <th>Movie</th>\n",
       "      <th>Production Budget</th>\n",
       "      <th>Domestic Gross</th>\n",
       "      <th>World Wide Gross</th>\n",
       "      <th>Domestic Profit Ratio</th>\n",
       "      <th>World Wide Profit Ratio</th>\n",
       "    </tr>\n",
       "  </thead>\n",
       "  <tbody>\n",
       "    <tr>\n",
       "      <th>0</th>\n",
       "      <td>1</td>\n",
       "      <td>Dec 18, 2009</td>\n",
       "      <td>Avatar</td>\n",
       "      <td>425000000</td>\n",
       "      <td>760507625</td>\n",
       "      <td>2776345279</td>\n",
       "      <td>1.78943</td>\n",
       "      <td>6.532577</td>\n",
       "    </tr>\n",
       "  </tbody>\n",
       "</table>\n",
       "</div>"
      ],
      "text/plain": [
       "   id  Release Date   Movie  Production Budget  Domestic Gross  \\\n",
       "0   1  Dec 18, 2009  Avatar          425000000       760507625   \n",
       "\n",
       "   World Wide Gross  Domestic Profit Ratio  World Wide Profit Ratio  \n",
       "0        2776345279                1.78943                 6.532577  "
      ]
     },
     "execution_count": 11,
     "metadata": {},
     "output_type": "execute_result"
    }
   ],
   "source": [
    "data['Domestic Profit Ratio'] = data['Domestic Gross'] / data['Production Budget']\n",
    "data['World Wide Profit Ratio'] = data['World Wide Gross'] / data['Production Budget']\n",
    "data.head(1)"
   ]
  },
  {
   "cell_type": "markdown",
   "id": "658cd0e2",
   "metadata": {},
   "source": [
    "# Exploring and Cleaning im.db Data Set"
   ]
  },
  {
   "cell_type": "code",
   "execution_count": 12,
   "id": "e973f034",
   "metadata": {},
   "outputs": [
    {
     "data": {
      "text/plain": [
       "<sqlite3.Cursor at 0x1046cd2c0>"
      ]
     },
     "execution_count": 12,
     "metadata": {},
     "output_type": "execute_result"
    }
   ],
   "source": [
    "db_path = '/Users/jessiefreelander/Flatiron_labs/Git_lab_Phase Project/Phase-2-Project/Data/im.db'\n",
    "\n",
    "conn = sqlite3.connect(db_path)\n",
    "cur = conn.cursor()\n"
   ]
  },
  {
   "cell_type": "code",
   "execution_count": 23,
   "id": "c946cdf3-0f44-433e-abdc-d931bfa1a8ab",
   "metadata": {},
   "outputs": [
    {
     "data": {
      "text/plain": [
       "[('movie_basics',),\n",
       " ('directors',),\n",
       " ('known_for',),\n",
       " ('movie_akas',),\n",
       " ('movie_ratings',),\n",
       " ('persons',),\n",
       " ('principals',),\n",
       " ('writers',)]"
      ]
     },
     "execution_count": 23,
     "metadata": {},
     "output_type": "execute_result"
    }
   ],
   "source": [
    "cur.execute(\"\"\"\n",
    "        SELECT name FROM sqlite_master \n",
    "        Where type = 'table'\n",
    "        \"\"\")\n",
    "tables = cur.fetchall()\n",
    "tables"
   ]
  },
  {
   "cell_type": "code",
   "execution_count": 41,
   "id": "fc777cfc-84be-4739-9430-4dd4e83bbd15",
   "metadata": {},
   "outputs": [
    {
     "data": {
      "text/plain": [
       "[(0, 'person_id', 'TEXT', 0, None, 0),\n",
       " (1, 'primary_name', 'TEXT', 0, None, 0),\n",
       " (2, 'birth_year', 'REAL', 0, None, 0),\n",
       " (3, 'death_year', 'REAL', 0, None, 0),\n",
       " (4, 'primary_profession', 'TEXT', 0, None, 0)]"
      ]
     },
     "execution_count": 41,
     "metadata": {},
     "output_type": "execute_result"
    }
   ],
   "source": [
    "cur.execute(\"\"\"\n",
    "            PRAGMA table_info(persons)\n",
    "            \"\"\")\n",
    "director_columns_info = cur.fetchall()\n",
    "director_columns_info"
   ]
  },
  {
   "cell_type": "code",
   "execution_count": 52,
   "id": "3c543ee4-2b2a-48f1-8e5f-9f417c3d7a73",
   "metadata": {},
   "outputs": [
    {
     "data": {
      "text/plain": [
       "[('nm0061671', 'Mary Ellen Bauder')]"
      ]
     },
     "execution_count": 52,
     "metadata": {},
     "output_type": "execute_result"
    }
   ],
   "source": [
    "cur.execute(\"\"\" SELECT person_id, primary_name FROM persons\n",
    "            LIMIT 1\n",
    "            \"\"\")\n",
    "person_rows = cur.fetchall()\n",
    "person_rows"
   ]
  },
  {
   "cell_type": "code",
   "execution_count": 43,
   "id": "f1670c0d-30e6-4937-a78e-6927569dfbb7",
   "metadata": {},
   "outputs": [
    {
     "data": {
      "text/plain": [
       "[('tt0285252', 'nm0899854')]"
      ]
     },
     "execution_count": 43,
     "metadata": {},
     "output_type": "execute_result"
    }
   ],
   "source": [
    "cur.execute(\"\"\"\n",
    "        SELECT * FROM directors\n",
    "        LIMIT 1\n",
    "        \"\"\")\n",
    "director_rows = cur.fetchall()\n",
    "director_rows"
   ]
  },
  {
   "cell_type": "code",
   "execution_count": 35,
   "id": "d56956ee-3153-4b4e-8009-17dd2baf8d9b",
   "metadata": {},
   "outputs": [
    {
     "data": {
      "text/plain": [
       "[(0, 'movie_id', 'TEXT', 0, None, 0),\n",
       " (1, 'primary_title', 'TEXT', 0, None, 0),\n",
       " (2, 'original_title', 'TEXT', 0, None, 0),\n",
       " (3, 'start_year', 'INTEGER', 0, None, 0),\n",
       " (4, 'runtime_minutes', 'REAL', 0, None, 0),\n",
       " (5, 'genres', 'TEXT', 0, None, 0)]"
      ]
     },
     "execution_count": 35,
     "metadata": {},
     "output_type": "execute_result"
    }
   ],
   "source": [
    "cur.execute(\"\"\"\n",
    "            PRAGMA table_info(movie_basics)\n",
    "            \"\"\")\n",
    "columns_info = cur.fetchall()\n",
    "columns_info"
   ]
  },
  {
   "cell_type": "code",
   "execution_count": 39,
   "id": "9851c31e-7ae2-4639-aba6-3212506f5162",
   "metadata": {},
   "outputs": [
    {
     "data": {
      "text/plain": [
       "[('tt0063540', 'Sunghursh', 'Sunghursh', 2013, 175.0, 'Action,Crime,Drama')]"
      ]
     },
     "execution_count": 39,
     "metadata": {},
     "output_type": "execute_result"
    }
   ],
   "source": [
    "cur.execute(\"\"\"\n",
    "        SELECT * FROM movie_basics\n",
    "        LIMIT 1\n",
    "        \"\"\")\n",
    "rows = cur.fetchall()\n",
    "rows"
   ]
  },
  {
   "cell_type": "markdown",
   "id": "6e5b6f94",
   "metadata": {},
   "source": [
    "## Joined Data set into a Dataframe"
   ]
  },
  {
   "cell_type": "code",
   "execution_count": 69,
   "id": "988f8a6f",
   "metadata": {},
   "outputs": [],
   "source": [
    "query = (\"\"\"\n",
    "    SELECT p.primary_name AS Director, \n",
    "       mb.genres AS Genres, \n",
    "       mb.start_year AS Release_Year, \n",
    "       mb.original_title AS Movie\n",
    "    FROM directors AS d\n",
    "    JOIN movie_basics AS mb ON d.movie_id = mb.movie_id\n",
    "    JOIN persons AS p ON d.person_id = p.person_id\n",
    "        \"\"\")"
   ]
  },
  {
   "cell_type": "code",
   "execution_count": 70,
   "id": "6f1cbb37",
   "metadata": {},
   "outputs": [
    {
     "data": {
      "text/html": [
       "<div>\n",
       "<style scoped>\n",
       "    .dataframe tbody tr th:only-of-type {\n",
       "        vertical-align: middle;\n",
       "    }\n",
       "\n",
       "    .dataframe tbody tr th {\n",
       "        vertical-align: top;\n",
       "    }\n",
       "\n",
       "    .dataframe thead th {\n",
       "        text-align: right;\n",
       "    }\n",
       "</style>\n",
       "<table border=\"1\" class=\"dataframe\">\n",
       "  <thead>\n",
       "    <tr style=\"text-align: right;\">\n",
       "      <th></th>\n",
       "      <th>Director</th>\n",
       "      <th>Genres</th>\n",
       "      <th>Release_Year</th>\n",
       "      <th>Movie</th>\n",
       "    </tr>\n",
       "  </thead>\n",
       "  <tbody>\n",
       "    <tr>\n",
       "      <th>0</th>\n",
       "      <td>Tony Vitale</td>\n",
       "      <td>Comedy</td>\n",
       "      <td>2012</td>\n",
       "      <td>Life's a Beach</td>\n",
       "    </tr>\n",
       "    <tr>\n",
       "      <th>1</th>\n",
       "      <td>Bill Haley</td>\n",
       "      <td>Drama</td>\n",
       "      <td>2012</td>\n",
       "      <td>Steve Phoenix: The Untold Story</td>\n",
       "    </tr>\n",
       "    <tr>\n",
       "      <th>2</th>\n",
       "      <td>Jay Chandrasekhar</td>\n",
       "      <td>Comedy</td>\n",
       "      <td>2012</td>\n",
       "      <td>The Babymakers</td>\n",
       "    </tr>\n",
       "    <tr>\n",
       "      <th>3</th>\n",
       "      <td>Jay Chandrasekhar</td>\n",
       "      <td>Comedy</td>\n",
       "      <td>2012</td>\n",
       "      <td>The Babymakers</td>\n",
       "    </tr>\n",
       "    <tr>\n",
       "      <th>4</th>\n",
       "      <td>Albert Pyun</td>\n",
       "      <td>Thriller</td>\n",
       "      <td>2010</td>\n",
       "      <td>Bulletface</td>\n",
       "    </tr>\n",
       "    <tr>\n",
       "      <th>...</th>\n",
       "      <td>...</td>\n",
       "      <td>...</td>\n",
       "      <td>...</td>\n",
       "      <td>...</td>\n",
       "    </tr>\n",
       "    <tr>\n",
       "      <th>291166</th>\n",
       "      <td>Daysi Burbano</td>\n",
       "      <td>Documentary</td>\n",
       "      <td>2018</td>\n",
       "      <td>Madre Luna</td>\n",
       "    </tr>\n",
       "    <tr>\n",
       "      <th>291167</th>\n",
       "      <td>Bernard Lessa</td>\n",
       "      <td>Drama,Mystery</td>\n",
       "      <td>2017</td>\n",
       "      <td>The woman and the river</td>\n",
       "    </tr>\n",
       "    <tr>\n",
       "      <th>291168</th>\n",
       "      <td>Tate Nova</td>\n",
       "      <td>Documentary,History,News</td>\n",
       "      <td>2018</td>\n",
       "      <td>Stone Mountain Georgia 08.28.18</td>\n",
       "    </tr>\n",
       "    <tr>\n",
       "      <th>291169</th>\n",
       "      <td>Courtney Faye Powell</td>\n",
       "      <td>Documentary,History,News</td>\n",
       "      <td>2018</td>\n",
       "      <td>Stone Mountain Georgia 08.28.18</td>\n",
       "    </tr>\n",
       "    <tr>\n",
       "      <th>291170</th>\n",
       "      <td>Fredrik Horn Akselsen</td>\n",
       "      <td>Documentary</td>\n",
       "      <td>2018</td>\n",
       "      <td>Syndebukken: Prosessen mot Harry Lindstrøm</td>\n",
       "    </tr>\n",
       "  </tbody>\n",
       "</table>\n",
       "<p>291171 rows × 4 columns</p>\n",
       "</div>"
      ],
      "text/plain": [
       "                     Director                    Genres  Release_Year  \\\n",
       "0                 Tony Vitale                    Comedy          2012   \n",
       "1                  Bill Haley                     Drama          2012   \n",
       "2           Jay Chandrasekhar                    Comedy          2012   \n",
       "3           Jay Chandrasekhar                    Comedy          2012   \n",
       "4                 Albert Pyun                  Thriller          2010   \n",
       "...                       ...                       ...           ...   \n",
       "291166          Daysi Burbano               Documentary          2018   \n",
       "291167          Bernard Lessa             Drama,Mystery          2017   \n",
       "291168              Tate Nova  Documentary,History,News          2018   \n",
       "291169   Courtney Faye Powell  Documentary,History,News          2018   \n",
       "291170  Fredrik Horn Akselsen               Documentary          2018   \n",
       "\n",
       "                                             Movie  \n",
       "0                                   Life's a Beach  \n",
       "1                  Steve Phoenix: The Untold Story  \n",
       "2                                   The Babymakers  \n",
       "3                                   The Babymakers  \n",
       "4                                       Bulletface  \n",
       "...                                            ...  \n",
       "291166                                  Madre Luna  \n",
       "291167                     The woman and the river  \n",
       "291168             Stone Mountain Georgia 08.28.18  \n",
       "291169             Stone Mountain Georgia 08.28.18  \n",
       "291170  Syndebukken: Prosessen mot Harry Lindstrøm  \n",
       "\n",
       "[291171 rows x 4 columns]"
      ]
     },
     "execution_count": 70,
     "metadata": {},
     "output_type": "execute_result"
    }
   ],
   "source": [
    "df = pd.read_sql_query(query, conn)\n",
    "df"
   ]
  },
  {
   "cell_type": "markdown",
   "id": "4e29c410",
   "metadata": {},
   "source": [
    "## Normalizing both data sets"
   ]
  },
  {
   "cell_type": "code",
   "execution_count": 71,
   "id": "67a7a3eb",
   "metadata": {},
   "outputs": [],
   "source": [
    "data['Movie'] = data['Movie'].str.strip()\n",
    "df['Movie'] = df['Movie'].str.strip()"
   ]
  },
  {
   "cell_type": "code",
   "execution_count": 72,
   "id": "84f63444",
   "metadata": {},
   "outputs": [],
   "source": [
    "data['Movie'] = data['Movie'].str.lower()\n",
    "df['Movie'] = df['Movie'].str.lower()"
   ]
  },
  {
   "cell_type": "markdown",
   "id": "2eb736cd",
   "metadata": {},
   "source": [
    "# Merged"
   ]
  },
  {
   "cell_type": "code",
   "execution_count": 73,
   "id": "73de2e9f",
   "metadata": {},
   "outputs": [],
   "source": [
    "dataset = pd.merge(data, df, on = 'Movie', how = 'inner')"
   ]
  },
  {
   "cell_type": "markdown",
   "id": "ea386caf",
   "metadata": {},
   "source": [
    "## Cleaning Merged Data set"
   ]
  },
  {
   "cell_type": "code",
   "execution_count": 74,
   "id": "5b7b6a91",
   "metadata": {},
   "outputs": [
    {
     "data": {
      "text/html": [
       "<div>\n",
       "<style scoped>\n",
       "    .dataframe tbody tr th:only-of-type {\n",
       "        vertical-align: middle;\n",
       "    }\n",
       "\n",
       "    .dataframe tbody tr th {\n",
       "        vertical-align: top;\n",
       "    }\n",
       "\n",
       "    .dataframe thead th {\n",
       "        text-align: right;\n",
       "    }\n",
       "</style>\n",
       "<table border=\"1\" class=\"dataframe\">\n",
       "  <thead>\n",
       "    <tr style=\"text-align: right;\">\n",
       "      <th></th>\n",
       "      <th>id</th>\n",
       "      <th>Release Date</th>\n",
       "      <th>Movie</th>\n",
       "      <th>Production Budget</th>\n",
       "      <th>Domestic Gross</th>\n",
       "      <th>World Wide Gross</th>\n",
       "      <th>Domestic Profit Ratio</th>\n",
       "      <th>World Wide Profit Ratio</th>\n",
       "      <th>Director</th>\n",
       "      <th>Genres</th>\n",
       "      <th>Release_Year</th>\n",
       "    </tr>\n",
       "  </thead>\n",
       "  <tbody>\n",
       "    <tr>\n",
       "      <th>0</th>\n",
       "      <td>2</td>\n",
       "      <td>May 20, 2011</td>\n",
       "      <td>pirates of the caribbean: on stranger tides</td>\n",
       "      <td>410600000</td>\n",
       "      <td>241063875</td>\n",
       "      <td>1045663875</td>\n",
       "      <td>0.587101</td>\n",
       "      <td>2.546673</td>\n",
       "      <td>Rob Marshall</td>\n",
       "      <td>Action,Adventure,Fantasy</td>\n",
       "      <td>2011</td>\n",
       "    </tr>\n",
       "  </tbody>\n",
       "</table>\n",
       "</div>"
      ],
      "text/plain": [
       "   id  Release Date                                        Movie  \\\n",
       "0   2  May 20, 2011  pirates of the caribbean: on stranger tides   \n",
       "\n",
       "   Production Budget  Domestic Gross  World Wide Gross  Domestic Profit Ratio  \\\n",
       "0          410600000       241063875        1045663875               0.587101   \n",
       "\n",
       "   World Wide Profit Ratio      Director                    Genres  \\\n",
       "0                 2.546673  Rob Marshall  Action,Adventure,Fantasy   \n",
       "\n",
       "   Release_Year  \n",
       "0          2011  "
      ]
     },
     "execution_count": 74,
     "metadata": {},
     "output_type": "execute_result"
    }
   ],
   "source": [
    "cleaned_dataset = dataset.drop_duplicates(subset=['Movie'], keep='first')\n",
    "cleaned_dataset.head(1)"
   ]
  },
  {
   "cell_type": "markdown",
   "id": "c7bd1d91",
   "metadata": {},
   "source": [
    "# Cleaned Data Set"
   ]
  },
  {
   "cell_type": "code",
   "execution_count": 75,
   "id": "7293bae1",
   "metadata": {},
   "outputs": [
    {
     "data": {
      "text/html": [
       "<div>\n",
       "<style scoped>\n",
       "    .dataframe tbody tr th:only-of-type {\n",
       "        vertical-align: middle;\n",
       "    }\n",
       "\n",
       "    .dataframe tbody tr th {\n",
       "        vertical-align: top;\n",
       "    }\n",
       "\n",
       "    .dataframe thead th {\n",
       "        text-align: right;\n",
       "    }\n",
       "</style>\n",
       "<table border=\"1\" class=\"dataframe\">\n",
       "  <thead>\n",
       "    <tr style=\"text-align: right;\">\n",
       "      <th></th>\n",
       "      <th>id</th>\n",
       "      <th>Release Date</th>\n",
       "      <th>Movie</th>\n",
       "      <th>Production Budget</th>\n",
       "      <th>Domestic Gross</th>\n",
       "      <th>World Wide Gross</th>\n",
       "      <th>Domestic Profit Ratio</th>\n",
       "      <th>World Wide Profit Ratio</th>\n",
       "      <th>Director</th>\n",
       "      <th>Genres</th>\n",
       "      <th>Release_Year</th>\n",
       "    </tr>\n",
       "  </thead>\n",
       "  <tbody>\n",
       "    <tr>\n",
       "      <th>0</th>\n",
       "      <td>2</td>\n",
       "      <td>May 20, 2011</td>\n",
       "      <td>pirates of the caribbean: on stranger tides</td>\n",
       "      <td>410600000</td>\n",
       "      <td>241063875</td>\n",
       "      <td>1045663875</td>\n",
       "      <td>0.587101</td>\n",
       "      <td>2.546673</td>\n",
       "      <td>Rob Marshall</td>\n",
       "      <td>Action,Adventure,Fantasy</td>\n",
       "      <td>2011</td>\n",
       "    </tr>\n",
       "    <tr>\n",
       "      <th>5</th>\n",
       "      <td>3</td>\n",
       "      <td>Jun 7, 2019</td>\n",
       "      <td>dark phoenix</td>\n",
       "      <td>350000000</td>\n",
       "      <td>42762350</td>\n",
       "      <td>149762350</td>\n",
       "      <td>0.122178</td>\n",
       "      <td>0.427892</td>\n",
       "      <td>Simon Kinberg</td>\n",
       "      <td>Action,Adventure,Sci-Fi</td>\n",
       "      <td>2019</td>\n",
       "    </tr>\n",
       "    <tr>\n",
       "      <th>11</th>\n",
       "      <td>4</td>\n",
       "      <td>May 1, 2015</td>\n",
       "      <td>avengers: age of ultron</td>\n",
       "      <td>330600000</td>\n",
       "      <td>459005868</td>\n",
       "      <td>1403013963</td>\n",
       "      <td>1.388403</td>\n",
       "      <td>4.243841</td>\n",
       "      <td>Joss Whedon</td>\n",
       "      <td>Action,Adventure,Sci-Fi</td>\n",
       "      <td>2015</td>\n",
       "    </tr>\n",
       "    <tr>\n",
       "      <th>16</th>\n",
       "      <td>7</td>\n",
       "      <td>Apr 27, 2018</td>\n",
       "      <td>avengers: infinity war</td>\n",
       "      <td>300000000</td>\n",
       "      <td>678815482</td>\n",
       "      <td>2048134200</td>\n",
       "      <td>2.262718</td>\n",
       "      <td>6.827114</td>\n",
       "      <td>Anthony Russo</td>\n",
       "      <td>Action,Adventure,Sci-Fi</td>\n",
       "      <td>2018</td>\n",
       "    </tr>\n",
       "    <tr>\n",
       "      <th>40</th>\n",
       "      <td>9</td>\n",
       "      <td>Nov 17, 2017</td>\n",
       "      <td>justice league</td>\n",
       "      <td>300000000</td>\n",
       "      <td>229024295</td>\n",
       "      <td>655945209</td>\n",
       "      <td>0.763414</td>\n",
       "      <td>2.186484</td>\n",
       "      <td>Zack Snyder</td>\n",
       "      <td>Action,Adventure,Fantasy</td>\n",
       "      <td>2017</td>\n",
       "    </tr>\n",
       "    <tr>\n",
       "      <th>...</th>\n",
       "      <td>...</td>\n",
       "      <td>...</td>\n",
       "      <td>...</td>\n",
       "      <td>...</td>\n",
       "      <td>...</td>\n",
       "      <td>...</td>\n",
       "      <td>...</td>\n",
       "      <td>...</td>\n",
       "      <td>...</td>\n",
       "      <td>...</td>\n",
       "      <td>...</td>\n",
       "    </tr>\n",
       "    <tr>\n",
       "      <th>8403</th>\n",
       "      <td>68</td>\n",
       "      <td>Jul 6, 2001</td>\n",
       "      <td>cure</td>\n",
       "      <td>10000</td>\n",
       "      <td>94596</td>\n",
       "      <td>94596</td>\n",
       "      <td>9.459600</td>\n",
       "      <td>9.459600</td>\n",
       "      <td>Bill Yip</td>\n",
       "      <td>Drama</td>\n",
       "      <td>2011</td>\n",
       "    </tr>\n",
       "    <tr>\n",
       "      <th>8405</th>\n",
       "      <td>70</td>\n",
       "      <td>Apr 1, 1996</td>\n",
       "      <td>bang</td>\n",
       "      <td>10000</td>\n",
       "      <td>527</td>\n",
       "      <td>527</td>\n",
       "      <td>0.052700</td>\n",
       "      <td>0.052700</td>\n",
       "      <td>Zarina Tadjibaeva</td>\n",
       "      <td>None</td>\n",
       "      <td>2015</td>\n",
       "    </tr>\n",
       "    <tr>\n",
       "      <th>8409</th>\n",
       "      <td>73</td>\n",
       "      <td>Jan 13, 2012</td>\n",
       "      <td>newlyweds</td>\n",
       "      <td>9000</td>\n",
       "      <td>4584</td>\n",
       "      <td>4584</td>\n",
       "      <td>0.509333</td>\n",
       "      <td>0.509333</td>\n",
       "      <td>Edward Burns</td>\n",
       "      <td>Comedy,Drama</td>\n",
       "      <td>2011</td>\n",
       "    </tr>\n",
       "    <tr>\n",
       "      <th>8410</th>\n",
       "      <td>78</td>\n",
       "      <td>Dec 31, 2018</td>\n",
       "      <td>red 11</td>\n",
       "      <td>7000</td>\n",
       "      <td>0</td>\n",
       "      <td>0</td>\n",
       "      <td>0.000000</td>\n",
       "      <td>0.000000</td>\n",
       "      <td>Robert Rodriguez</td>\n",
       "      <td>Horror,Sci-Fi,Thriller</td>\n",
       "      <td>2019</td>\n",
       "    </tr>\n",
       "    <tr>\n",
       "      <th>8412</th>\n",
       "      <td>81</td>\n",
       "      <td>Sep 29, 2015</td>\n",
       "      <td>a plague so pleasant</td>\n",
       "      <td>1400</td>\n",
       "      <td>0</td>\n",
       "      <td>0</td>\n",
       "      <td>0.000000</td>\n",
       "      <td>0.000000</td>\n",
       "      <td>Benjamin Roberds</td>\n",
       "      <td>Drama,Horror,Thriller</td>\n",
       "      <td>2013</td>\n",
       "    </tr>\n",
       "  </tbody>\n",
       "</table>\n",
       "<p>2309 rows × 11 columns</p>\n",
       "</div>"
      ],
      "text/plain": [
       "      id  Release Date                                        Movie  \\\n",
       "0      2  May 20, 2011  pirates of the caribbean: on stranger tides   \n",
       "5      3   Jun 7, 2019                                 dark phoenix   \n",
       "11     4   May 1, 2015                      avengers: age of ultron   \n",
       "16     7  Apr 27, 2018                       avengers: infinity war   \n",
       "40     9  Nov 17, 2017                               justice league   \n",
       "...   ..           ...                                          ...   \n",
       "8403  68   Jul 6, 2001                                         cure   \n",
       "8405  70   Apr 1, 1996                                         bang   \n",
       "8409  73  Jan 13, 2012                                    newlyweds   \n",
       "8410  78  Dec 31, 2018                                       red 11   \n",
       "8412  81  Sep 29, 2015                         a plague so pleasant   \n",
       "\n",
       "      Production Budget  Domestic Gross  World Wide Gross  \\\n",
       "0             410600000       241063875        1045663875   \n",
       "5             350000000        42762350         149762350   \n",
       "11            330600000       459005868        1403013963   \n",
       "16            300000000       678815482        2048134200   \n",
       "40            300000000       229024295         655945209   \n",
       "...                 ...             ...               ...   \n",
       "8403              10000           94596             94596   \n",
       "8405              10000             527               527   \n",
       "8409               9000            4584              4584   \n",
       "8410               7000               0                 0   \n",
       "8412               1400               0                 0   \n",
       "\n",
       "      Domestic Profit Ratio  World Wide Profit Ratio           Director  \\\n",
       "0                  0.587101                 2.546673       Rob Marshall   \n",
       "5                  0.122178                 0.427892      Simon Kinberg   \n",
       "11                 1.388403                 4.243841        Joss Whedon   \n",
       "16                 2.262718                 6.827114      Anthony Russo   \n",
       "40                 0.763414                 2.186484        Zack Snyder   \n",
       "...                     ...                      ...                ...   \n",
       "8403               9.459600                 9.459600           Bill Yip   \n",
       "8405               0.052700                 0.052700  Zarina Tadjibaeva   \n",
       "8409               0.509333                 0.509333       Edward Burns   \n",
       "8410               0.000000                 0.000000   Robert Rodriguez   \n",
       "8412               0.000000                 0.000000   Benjamin Roberds   \n",
       "\n",
       "                        Genres  Release_Year  \n",
       "0     Action,Adventure,Fantasy          2011  \n",
       "5      Action,Adventure,Sci-Fi          2019  \n",
       "11     Action,Adventure,Sci-Fi          2015  \n",
       "16     Action,Adventure,Sci-Fi          2018  \n",
       "40    Action,Adventure,Fantasy          2017  \n",
       "...                        ...           ...  \n",
       "8403                     Drama          2011  \n",
       "8405                      None          2015  \n",
       "8409              Comedy,Drama          2011  \n",
       "8410    Horror,Sci-Fi,Thriller          2019  \n",
       "8412     Drama,Horror,Thriller          2013  \n",
       "\n",
       "[2309 rows x 11 columns]"
      ]
     },
     "execution_count": 75,
     "metadata": {},
     "output_type": "execute_result"
    }
   ],
   "source": [
    "cleaned_dataset"
   ]
  },
  {
   "cell_type": "code",
   "execution_count": 76,
   "id": "33e484b2",
   "metadata": {},
   "outputs": [],
   "source": [
    "cleaned_dataset.to_csv('cleaned_dataset.csv', index = False)"
   ]
  },
  {
   "cell_type": "code",
   "execution_count": null,
   "id": "dda6a9d3",
   "metadata": {},
   "outputs": [],
   "source": []
  }
 ],
 "metadata": {
  "kernelspec": {
   "display_name": "Python (learn-env)",
   "language": "python",
   "name": "learn-env"
  },
  "language_info": {
   "codemirror_mode": {
    "name": "ipython",
    "version": 3
   },
   "file_extension": ".py",
   "mimetype": "text/x-python",
   "name": "python",
   "nbconvert_exporter": "python",
   "pygments_lexer": "ipython3",
   "version": "3.12.4"
  }
 },
 "nbformat": 4,
 "nbformat_minor": 5
}
